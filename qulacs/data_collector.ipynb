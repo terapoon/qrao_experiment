{
 "cells": [
  {
   "cell_type": "markdown",
   "metadata": {},
   "source": [
    "# Data Collector\n",
    "In this notebook, we collect the simulation data on qulacs.\n",
    "\n",
    "## QRAO on regular graphs"
   ]
  },
  {
   "cell_type": "code",
   "execution_count": 2,
   "metadata": {},
   "outputs": [],
   "source": [
    "# import packages\n",
    "from maxcut_instance_generator import regular_graph\n",
    "from encoding import RandomAccessEncoder\n",
    "from vqe import VQEForQRAO\n",
    "from rounding import MagicRounding"
   ]
  },
  {
   "cell_type": "code",
   "execution_count": 3,
   "metadata": {},
   "outputs": [],
   "source": [
    "import os\n",
    "import pickle\n",
    "from tqdm.auto import tqdm\n",
    "\n",
    "# function to run QRAO\n",
    "def run_qrao(m, n, instance, max_level, root_path, shots):\n",
    "    qrac = RandomAccessEncoder(m, n)\n",
    "    hamiltonian = qrac.generate_hamiltonian(instance)\n",
    "    # print(f\"Hamiltonian is {hamiltonian}\")\n",
    "    num_qubit = len(qrac.qubit_to_vertex_map)\n",
    "    num_edge = len(qrac.calculate_edge_among_qubits(instance))\n",
    "    # print(f\"{num_qubit} qubits, {num_edge} edges\")\n",
    "\n",
    "    for entanglement in tqdm([\"linear\"]):\n",
    "        for level in tqdm(range(max_level)):\n",
    "            vqe = VQEForQRAO(\n",
    "                hamiltonian,\n",
    "                entanglement=entanglement,\n",
    "                num_layer=level,\n",
    "                qubit_pairs=qrac.calculate_edge_among_qubits(instance),\n",
    "            )\n",
    "            cost_history, best_theta_list = vqe.minimize()\n",
    "            rounding = MagicRounding(m, n, shots, vqe, qrac)\n",
    "            solution_counts = rounding.round(best_theta_list)\n",
    "            maxcut_values = rounding.get_objective_value_counts(\n",
    "                instance, solution_counts\n",
    "            )\n",
    "\n",
    "            # result of the experiment\n",
    "            result = {\n",
    "                \"solution_counts\": solution_counts,\n",
    "                \"maxcut_values\": maxcut_values,\n",
    "                \"num_qubit\": num_qubit,\n",
    "                \"num_edge\": num_edge,\n",
    "                \"entanglement\": entanglement,\n",
    "                \"level\": level,\n",
    "                \"optimum_solution\": instance.solve().get_objective_value(),\n",
    "            }\n",
    "\n",
    "            # save experiment result\n",
    "            save_path = f\"{root_path}/{m}-{n}/{entanglement}/\"\n",
    "            os.makedirs(save_path, exist_ok=True)\n",
    "            save_file_name = f\"{save_path}/level{level}.pkl\"\n",
    "            with open(save_file_name, \"wb\") as f:\n",
    "                pickle.dump(result, f)"
   ]
  },
  {
   "cell_type": "code",
   "execution_count": 4,
   "metadata": {},
   "outputs": [],
   "source": [
    "# search pattern\n",
    "# search_pattern = {3: [8, 10, 12, 14, 16, 18, 20, 22, 24, 26, 28, 30]}\n",
    "search_pattern = {3: [6]}\n",
    "qrao_patterns = [(3, 1)]\n",
    "# qrao_patterns = [(2, 1)]\n",
    "# qrao_patterns = [(1, 1)]\n",
    "MAX_LEVEL = 2\n",
    "TRIAL = 1\n",
    "ROUNDING_SHOTS = 1000"
   ]
  },
  {
   "cell_type": "code",
   "execution_count": 5,
   "metadata": {},
   "outputs": [
    {
     "data": {
      "application/vnd.jupyter.widget-view+json": {
       "model_id": "5c46bf8b58204764bc66acce2afbde4f",
       "version_major": 2,
       "version_minor": 0
      },
      "text/plain": [
       "  0%|          | 0/1 [00:00<?, ?it/s]"
      ]
     },
     "metadata": {},
     "output_type": "display_data"
    },
    {
     "data": {
      "application/vnd.jupyter.widget-view+json": {
       "model_id": "f453a6a67a6e4b3ebda0a81f9dd6674e",
       "version_major": 2,
       "version_minor": 0
      },
      "text/plain": [
       "  0%|          | 0/1 [00:00<?, ?it/s]"
      ]
     },
     "metadata": {},
     "output_type": "display_data"
    },
    {
     "data": {
      "application/vnd.jupyter.widget-view+json": {
       "model_id": "1921d056396b415598ca5cd947e008e8",
       "version_major": 2,
       "version_minor": 0
      },
      "text/plain": [
       "  0%|          | 0/2 [00:00<?, ?it/s]"
      ]
     },
     "metadata": {},
     "output_type": "display_data"
    }
   ],
   "source": [
    "from networkx import node_link_data\n",
    "\n",
    "for deg, num_vertices in search_pattern.items():\n",
    "    for num in num_vertices:\n",
    "        for m, n in qrao_patterns:\n",
    "            for i in tqdm(range(TRIAL)):\n",
    "                graph, instance = regular_graph(num, deg)\n",
    "                root_path = f\"results/regular/deg{deg}/nodes{num}/trial{i}\"\n",
    "                os.makedirs(root_path, exist_ok=True)\n",
    "                with open(f\"{root_path}/graph_data.pkl\", \"wb\") as f:\n",
    "                    pickle.dump(node_link_data(graph), f)\n",
    "\n",
    "                run_qrao(\n",
    "                    m,\n",
    "                    n,\n",
    "                    instance,\n",
    "                    MAX_LEVEL,\n",
    "                    f\"results/regular/deg{deg}/nodes{num}/trial{i}\",\n",
    "                    ROUNDING_SHOTS,\n",
    "                )"
   ]
  },
  {
   "cell_type": "code",
   "execution_count": 7,
   "metadata": {},
   "outputs": [
    {
     "name": "stdout",
     "output_type": "stream",
     "text": [
      "{'solution_counts': {'011000': 23, '100100': 14, '111111': 19, '111100': 35, '100101': 22, '100110': 4, '111101': 40, '011001': 27, '111110': 6, '011010': 9, '000001': 11, '100111': 4, '011011': 7, '101100': 26, '110100': 43, '010000': 37, '110111': 13, '110101': 44, '101101': 14, '101110': 5, '110110': 12, '001001': 8, '010001': 29, '010010': 9, '001010': 4, '010011': 9, '101111': 2, '001000': 6, '001011': 3, '000000': 4, '111011': 11, '100000': 16, '111000': 33, '100011': 7, '011100': 30, '100001': 21, '111001': 45, '111010': 9, '100010': 6, '011101': 28, '000101': 7, '110000': 51, '001100': 8, '101000': 24, '010100': 32, '110011': 17, '101001': 14, '001101': 11, '110001': 44, '110010': 11, '010101': 24, '101010': 4, '001111': 3, '101011': 8, '010110': 6, '010111': 2, '011111': 8, '000110': 1, '000100': 17, '011110': 6, '001110': 2, '000010': 3, '000011': 2}, 'maxcut_values': {4.0: 278, 6.0: 200, 5.0: 193, 3.0: 192, 7.0: 114, 0.0: 23}, 'num_qubit': 3, 'num_edge': 3, 'entanglement': 'linear', 'level': 0, 'optimum_solution': 7.0}\n"
     ]
    }
   ],
   "source": [
    "result = pickle.load(open(\"/Users/terapoon/Desktop/qrao_experiment/qulacs/results/regular/deg3/nodes6/trial0/3-1/linear/level0.pkl\", \"rb\"))\n",
    "print(result)"
   ]
  },
  {
   "cell_type": "code",
   "execution_count": null,
   "metadata": {},
   "outputs": [],
   "source": []
  }
 ],
 "metadata": {
  "kernelspec": {
   "display_name": "Python 3",
   "language": "python",
   "name": "python3"
  },
  "language_info": {
   "codemirror_mode": {
    "name": "ipython",
    "version": 3
   },
   "file_extension": ".py",
   "mimetype": "text/x-python",
   "name": "python",
   "nbconvert_exporter": "python",
   "pygments_lexer": "ipython3",
   "version": "3.10.0"
  },
  "orig_nbformat": 4,
  "vscode": {
   "interpreter": {
    "hash": "ac1720b15ae09c0b55c2dd30e79536345c9ebe464667d12a646c27f7fc4d9415"
   }
  }
 },
 "nbformat": 4,
 "nbformat_minor": 2
}
