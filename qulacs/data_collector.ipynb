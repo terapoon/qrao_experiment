{
 "cells": [
  {
   "cell_type": "markdown",
   "metadata": {},
   "source": [
    "# Data Collector\n",
    "In this notebook, we collect the simulation data on qulacs.\n",
    "\n",
    "## QRAO on regular graphs"
   ]
  },
  {
   "cell_type": "code",
   "execution_count": 2,
   "metadata": {},
   "outputs": [],
   "source": [
    "# import packages\n",
    "from maxcut_instance_generator import regular_graph\n",
    "from encoding import RandomAccessEncoder\n",
    "from vqe import VQEForQRAO\n",
    "from rounding import MagicRounding"
   ]
  },
  {
   "cell_type": "code",
   "execution_count": 3,
   "metadata": {},
   "outputs": [],
   "source": [
    "import os\n",
    "import pickle\n",
    "from tqdm.auto import tqdm\n",
    "\n",
    "# function to run QRAO\n",
    "def run_qrao(m, n, instance, max_level, root_path, shots):\n",
    "    qrac = RandomAccessEncoder(m, n)\n",
    "    hamiltonian = qrac.generate_hamiltonian(instance)\n",
    "    # print(f\"Hamiltonian is {hamiltonian}\")\n",
    "    num_qubit = len(qrac.qubit_to_vertex_map)\n",
    "    num_edge = len(qrac.calculate_edge_among_qubits(instance))\n",
    "    # print(f\"{num_qubit} qubits, {num_edge} edges\")\n",
    "\n",
    "    for entanglement in tqdm([\"compatible\", \"linear\", \"random\"]):\n",
    "        for level in tqdm(range(max_level)):\n",
    "            vqe = VQEForQRAO(\n",
    "                hamiltonian,\n",
    "                entanglement=entanglement,\n",
    "                num_layer=level,\n",
    "                qubit_pairs=qrac.calculate_edge_among_qubits(instance),\n",
    "            )\n",
    "            cost_history, best_theta_list = vqe.minimize()\n",
    "            rounding = MagicRounding(m, n, shots, vqe, qrac)\n",
    "            solution_counts = rounding.round(best_theta_list)\n",
    "            maxcut_values = rounding.get_objective_value_counts(\n",
    "                instance, solution_counts\n",
    "            )\n",
    "\n",
    "            # result of the experiment\n",
    "            result = {\n",
    "                \"solution_counts\": solution_counts,\n",
    "                \"maxcut_values\": maxcut_values,\n",
    "                \"num_qubit\": num_qubit,\n",
    "                \"num_edge\": num_edge,\n",
    "                \"entanglement\": entanglement,\n",
    "                \"level\": level,\n",
    "                \"optimum_solution\": instance.solve().get_objective_value(),\n",
    "            }\n",
    "\n",
    "            # save experiment result\n",
    "            save_path = f\"{root_path}/{m}-{n}/{entanglement}/\"\n",
    "            os.makedirs(save_path, exist_ok=True)\n",
    "            save_file_name = f\"{save_path}/level{level}.pkl\"\n",
    "            with open(save_file_name, \"wb\") as f:\n",
    "                pickle.dump(result, f)"
   ]
  },
  {
   "cell_type": "code",
   "execution_count": 4,
   "metadata": {},
   "outputs": [],
   "source": [
    "# search pattern\n",
    "# search_pattern = {3: [8, 10, 12, 14, 16, 18, 20, 22, 24, 26, 28, 30]}\n",
    "search_pattern = {3: [16, 18]}\n",
    "qrao_patterns = [(3, 1)]\n",
    "# qrao_patterns = [(2, 1)]\n",
    "# qrao_patterns = [(1, 1)]\n",
    "MAX_LEVEL = 10\n",
    "TRIAL = 10\n",
    "ROUNDING_SHOTS = 1000"
   ]
  },
  {
   "cell_type": "code",
   "execution_count": 5,
   "metadata": {},
   "outputs": [
    {
     "data": {
      "application/vnd.jupyter.widget-view+json": {
       "model_id": "e03f0ae84271435cb8f702a624bac7b2",
       "version_major": 2,
       "version_minor": 0
      },
      "text/plain": [
       "  0%|          | 0/1 [00:00<?, ?it/s]"
      ]
     },
     "metadata": {},
     "output_type": "display_data"
    },
    {
     "data": {
      "application/vnd.jupyter.widget-view+json": {
       "model_id": "8374307300f44c17964bb8bff647a026",
       "version_major": 2,
       "version_minor": 0
      },
      "text/plain": [
       "  0%|          | 0/2 [00:00<?, ?it/s]"
      ]
     },
     "metadata": {},
     "output_type": "display_data"
    },
    {
     "data": {
      "application/vnd.jupyter.widget-view+json": {
       "model_id": "7e33a18c80cf4e1d9829ef6dcce649a0",
       "version_major": 2,
       "version_minor": 0
      },
      "text/plain": [
       "  0%|          | 0/10 [00:00<?, ?it/s]"
      ]
     },
     "metadata": {},
     "output_type": "display_data"
    },
    {
     "name": "stderr",
     "output_type": "stream",
     "text": [
      "capi_return is NULL\n",
      "Call-back cb_callback_in__cobyla__user__routines failed.\n"
     ]
    },
    {
     "ename": "KeyboardInterrupt",
     "evalue": "",
     "output_type": "error",
     "traceback": [
      "\u001b[0;31m---------------------------------------------------------------------------\u001b[0m",
      "\u001b[0;31mKeyboardInterrupt\u001b[0m                         Traceback (most recent call last)",
      "\u001b[1;32m/home/s54005/qrao_experiment/qulacs/data_collector.ipynb Cell 5\u001b[0m in \u001b[0;36m<cell line: 3>\u001b[0;34m()\u001b[0m\n\u001b[1;32m     <a href='vscode-notebook-cell://ssh-remote%2Bwisteria.cc.u-tokyo.ac.jp/home/s54005/qrao_experiment/qulacs/data_collector.ipynb#X11sdnNjb2RlLXJlbW90ZQ%3D%3D?line=9'>10</a>\u001b[0m \u001b[39mwith\u001b[39;00m \u001b[39mopen\u001b[39m(\u001b[39mf\u001b[39m\u001b[39m\"\u001b[39m\u001b[39m{\u001b[39;00mroot_path\u001b[39m}\u001b[39;00m\u001b[39m/graph_data.pkl\u001b[39m\u001b[39m\"\u001b[39m, \u001b[39m'\u001b[39m\u001b[39mwb\u001b[39m\u001b[39m'\u001b[39m) \u001b[39mas\u001b[39;00m f:\n\u001b[1;32m     <a href='vscode-notebook-cell://ssh-remote%2Bwisteria.cc.u-tokyo.ac.jp/home/s54005/qrao_experiment/qulacs/data_collector.ipynb#X11sdnNjb2RlLXJlbW90ZQ%3D%3D?line=10'>11</a>\u001b[0m     pickle\u001b[39m.\u001b[39mdump(node_link_data(graph), f)\n\u001b[0;32m---> <a href='vscode-notebook-cell://ssh-remote%2Bwisteria.cc.u-tokyo.ac.jp/home/s54005/qrao_experiment/qulacs/data_collector.ipynb#X11sdnNjb2RlLXJlbW90ZQ%3D%3D?line=12'>13</a>\u001b[0m run_qrao(\n\u001b[1;32m     <a href='vscode-notebook-cell://ssh-remote%2Bwisteria.cc.u-tokyo.ac.jp/home/s54005/qrao_experiment/qulacs/data_collector.ipynb#X11sdnNjb2RlLXJlbW90ZQ%3D%3D?line=13'>14</a>\u001b[0m     m,\n\u001b[1;32m     <a href='vscode-notebook-cell://ssh-remote%2Bwisteria.cc.u-tokyo.ac.jp/home/s54005/qrao_experiment/qulacs/data_collector.ipynb#X11sdnNjb2RlLXJlbW90ZQ%3D%3D?line=14'>15</a>\u001b[0m     n,\n\u001b[1;32m     <a href='vscode-notebook-cell://ssh-remote%2Bwisteria.cc.u-tokyo.ac.jp/home/s54005/qrao_experiment/qulacs/data_collector.ipynb#X11sdnNjb2RlLXJlbW90ZQ%3D%3D?line=15'>16</a>\u001b[0m     instance,\n\u001b[1;32m     <a href='vscode-notebook-cell://ssh-remote%2Bwisteria.cc.u-tokyo.ac.jp/home/s54005/qrao_experiment/qulacs/data_collector.ipynb#X11sdnNjb2RlLXJlbW90ZQ%3D%3D?line=16'>17</a>\u001b[0m     MAX_LEVEL,\n\u001b[1;32m     <a href='vscode-notebook-cell://ssh-remote%2Bwisteria.cc.u-tokyo.ac.jp/home/s54005/qrao_experiment/qulacs/data_collector.ipynb#X11sdnNjb2RlLXJlbW90ZQ%3D%3D?line=17'>18</a>\u001b[0m     \u001b[39mf\u001b[39;49m\u001b[39m\"\u001b[39;49m\u001b[39mresults/regular/deg\u001b[39;49m\u001b[39m{\u001b[39;49;00mdeg\u001b[39m}\u001b[39;49;00m\u001b[39m/nodes\u001b[39;49m\u001b[39m{\u001b[39;49;00mnum\u001b[39m}\u001b[39;49;00m\u001b[39m/trial\u001b[39;49m\u001b[39m{\u001b[39;49;00mi\u001b[39m}\u001b[39;49;00m\u001b[39m\"\u001b[39;49m,\n\u001b[1;32m     <a href='vscode-notebook-cell://ssh-remote%2Bwisteria.cc.u-tokyo.ac.jp/home/s54005/qrao_experiment/qulacs/data_collector.ipynb#X11sdnNjb2RlLXJlbW90ZQ%3D%3D?line=18'>19</a>\u001b[0m     ROUNDING_SHOTS,\n\u001b[1;32m     <a href='vscode-notebook-cell://ssh-remote%2Bwisteria.cc.u-tokyo.ac.jp/home/s54005/qrao_experiment/qulacs/data_collector.ipynb#X11sdnNjb2RlLXJlbW90ZQ%3D%3D?line=19'>20</a>\u001b[0m )\n",
      "\u001b[1;32m/home/s54005/qrao_experiment/qulacs/data_collector.ipynb Cell 5\u001b[0m in \u001b[0;36mrun_qrao\u001b[0;34m(m, n, instance, max_level, root_path, shots)\u001b[0m\n\u001b[1;32m     <a href='vscode-notebook-cell://ssh-remote%2Bwisteria.cc.u-tokyo.ac.jp/home/s54005/qrao_experiment/qulacs/data_collector.ipynb#X11sdnNjb2RlLXJlbW90ZQ%3D%3D?line=14'>15</a>\u001b[0m \u001b[39mfor\u001b[39;00m level \u001b[39min\u001b[39;00m \u001b[39mrange\u001b[39m(max_level):\n\u001b[1;32m     <a href='vscode-notebook-cell://ssh-remote%2Bwisteria.cc.u-tokyo.ac.jp/home/s54005/qrao_experiment/qulacs/data_collector.ipynb#X11sdnNjb2RlLXJlbW90ZQ%3D%3D?line=15'>16</a>\u001b[0m     vqe \u001b[39m=\u001b[39m VQEForQRAO(\n\u001b[1;32m     <a href='vscode-notebook-cell://ssh-remote%2Bwisteria.cc.u-tokyo.ac.jp/home/s54005/qrao_experiment/qulacs/data_collector.ipynb#X11sdnNjb2RlLXJlbW90ZQ%3D%3D?line=16'>17</a>\u001b[0m         hamiltonian,\n\u001b[1;32m     <a href='vscode-notebook-cell://ssh-remote%2Bwisteria.cc.u-tokyo.ac.jp/home/s54005/qrao_experiment/qulacs/data_collector.ipynb#X11sdnNjb2RlLXJlbW90ZQ%3D%3D?line=17'>18</a>\u001b[0m         entanglement\u001b[39m=\u001b[39mentanglement,\n\u001b[1;32m     <a href='vscode-notebook-cell://ssh-remote%2Bwisteria.cc.u-tokyo.ac.jp/home/s54005/qrao_experiment/qulacs/data_collector.ipynb#X11sdnNjb2RlLXJlbW90ZQ%3D%3D?line=18'>19</a>\u001b[0m         num_layer\u001b[39m=\u001b[39mlevel,\n\u001b[1;32m     <a href='vscode-notebook-cell://ssh-remote%2Bwisteria.cc.u-tokyo.ac.jp/home/s54005/qrao_experiment/qulacs/data_collector.ipynb#X11sdnNjb2RlLXJlbW90ZQ%3D%3D?line=19'>20</a>\u001b[0m         qubit_pairs\u001b[39m=\u001b[39mqrac\u001b[39m.\u001b[39mcalculate_edge_among_qubits(instance),\n\u001b[1;32m     <a href='vscode-notebook-cell://ssh-remote%2Bwisteria.cc.u-tokyo.ac.jp/home/s54005/qrao_experiment/qulacs/data_collector.ipynb#X11sdnNjb2RlLXJlbW90ZQ%3D%3D?line=20'>21</a>\u001b[0m     )\n\u001b[0;32m---> <a href='vscode-notebook-cell://ssh-remote%2Bwisteria.cc.u-tokyo.ac.jp/home/s54005/qrao_experiment/qulacs/data_collector.ipynb#X11sdnNjb2RlLXJlbW90ZQ%3D%3D?line=21'>22</a>\u001b[0m     cost_history, best_theta_list \u001b[39m=\u001b[39m vqe\u001b[39m.\u001b[39;49mminimize()\n\u001b[1;32m     <a href='vscode-notebook-cell://ssh-remote%2Bwisteria.cc.u-tokyo.ac.jp/home/s54005/qrao_experiment/qulacs/data_collector.ipynb#X11sdnNjb2RlLXJlbW90ZQ%3D%3D?line=22'>23</a>\u001b[0m     rounding \u001b[39m=\u001b[39m MagicRounding(m, n, shots, vqe, qrac)\n\u001b[1;32m     <a href='vscode-notebook-cell://ssh-remote%2Bwisteria.cc.u-tokyo.ac.jp/home/s54005/qrao_experiment/qulacs/data_collector.ipynb#X11sdnNjb2RlLXJlbW90ZQ%3D%3D?line=23'>24</a>\u001b[0m     solution_counts \u001b[39m=\u001b[39m rounding\u001b[39m.\u001b[39mround(best_theta_list)\n",
      "File \u001b[0;32m~/qrao_experiment/qulacs/vqe.py:128\u001b[0m, in \u001b[0;36mVQEForQRAO.minimize\u001b[0;34m(self)\u001b[0m\n\u001b[1;32m    126\u001b[0m \u001b[39mif\u001b[39;00m \u001b[39mself\u001b[39m\u001b[39m.\u001b[39m__printing:\n\u001b[1;32m    127\u001b[0m     \u001b[39mprint\u001b[39m(\u001b[39m\"\u001b[39m\u001b[39mIter\u001b[39m\u001b[39m\\t\u001b[39;00m\u001b[39mcost\u001b[39m\u001b[39m\"\u001b[39m)\n\u001b[0;32m--> 128\u001b[0m opt \u001b[39m=\u001b[39m minimize(\n\u001b[1;32m    129\u001b[0m     \u001b[39mself\u001b[39;49m\u001b[39m.\u001b[39;49m_cost_function,\n\u001b[1;32m    130\u001b[0m     init_theta_list,\n\u001b[1;32m    131\u001b[0m     method\u001b[39m=\u001b[39;49m\u001b[39mself\u001b[39;49m\u001b[39m.\u001b[39;49m__method,\n\u001b[1;32m    132\u001b[0m     options\u001b[39m=\u001b[39;49m\u001b[39mself\u001b[39;49m\u001b[39m.\u001b[39;49m__options,\n\u001b[1;32m    133\u001b[0m     callback\u001b[39m=\u001b[39;49m_callback,\n\u001b[1;32m    134\u001b[0m )\n\u001b[1;32m    136\u001b[0m best_theta_list \u001b[39m=\u001b[39m opt\u001b[39m.\u001b[39mx\n\u001b[1;32m    138\u001b[0m \u001b[39mreturn\u001b[39;00m cost_history, best_theta_list\n",
      "File \u001b[0;32m~/qrao_experiment/.venv/lib/python3.8/site-packages/scipy/optimize/_minimize.py:698\u001b[0m, in \u001b[0;36mminimize\u001b[0;34m(fun, x0, args, method, jac, hess, hessp, bounds, constraints, tol, callback, options)\u001b[0m\n\u001b[1;32m    695\u001b[0m     res \u001b[39m=\u001b[39m _minimize_tnc(fun, x0, args, jac, bounds, callback\u001b[39m=\u001b[39mcallback,\n\u001b[1;32m    696\u001b[0m                         \u001b[39m*\u001b[39m\u001b[39m*\u001b[39moptions)\n\u001b[1;32m    697\u001b[0m \u001b[39melif\u001b[39;00m meth \u001b[39m==\u001b[39m \u001b[39m'\u001b[39m\u001b[39mcobyla\u001b[39m\u001b[39m'\u001b[39m:\n\u001b[0;32m--> 698\u001b[0m     res \u001b[39m=\u001b[39m _minimize_cobyla(fun, x0, args, constraints, callback\u001b[39m=\u001b[39;49mcallback,\n\u001b[1;32m    699\u001b[0m                             \u001b[39m*\u001b[39;49m\u001b[39m*\u001b[39;49moptions)\n\u001b[1;32m    700\u001b[0m \u001b[39melif\u001b[39;00m meth \u001b[39m==\u001b[39m \u001b[39m'\u001b[39m\u001b[39mslsqp\u001b[39m\u001b[39m'\u001b[39m:\n\u001b[1;32m    701\u001b[0m     res \u001b[39m=\u001b[39m _minimize_slsqp(fun, x0, args, jac, bounds,\n\u001b[1;32m    702\u001b[0m                           constraints, callback\u001b[39m=\u001b[39mcallback, \u001b[39m*\u001b[39m\u001b[39m*\u001b[39moptions)\n",
      "File \u001b[0;32m~/qrao_experiment/.venv/lib/python3.8/site-packages/scipy/optimize/_cobyla_py.py:34\u001b[0m, in \u001b[0;36msynchronized.<locals>.wrapper\u001b[0;34m(*args, **kwargs)\u001b[0m\n\u001b[1;32m     31\u001b[0m \u001b[39m@functools\u001b[39m\u001b[39m.\u001b[39mwraps(func)\n\u001b[1;32m     32\u001b[0m \u001b[39mdef\u001b[39;00m \u001b[39mwrapper\u001b[39m(\u001b[39m*\u001b[39margs, \u001b[39m*\u001b[39m\u001b[39m*\u001b[39mkwargs):\n\u001b[1;32m     33\u001b[0m     \u001b[39mwith\u001b[39;00m _module_lock:\n\u001b[0;32m---> 34\u001b[0m         \u001b[39mreturn\u001b[39;00m func(\u001b[39m*\u001b[39;49margs, \u001b[39m*\u001b[39;49m\u001b[39m*\u001b[39;49mkwargs)\n",
      "File \u001b[0;32m~/qrao_experiment/.venv/lib/python3.8/site-packages/scipy/optimize/_cobyla_py.py:273\u001b[0m, in \u001b[0;36m_minimize_cobyla\u001b[0;34m(fun, x0, args, constraints, rhobeg, tol, maxiter, disp, catol, callback, **unknown_options)\u001b[0m\n\u001b[1;32m    270\u001b[0m         callback(np\u001b[39m.\u001b[39mcopy(x))\n\u001b[1;32m    272\u001b[0m info \u001b[39m=\u001b[39m np\u001b[39m.\u001b[39mzeros(\u001b[39m4\u001b[39m, np\u001b[39m.\u001b[39mfloat64)\n\u001b[0;32m--> 273\u001b[0m xopt, info \u001b[39m=\u001b[39m cobyla\u001b[39m.\u001b[39;49mminimize(calcfc, m\u001b[39m=\u001b[39;49mm, x\u001b[39m=\u001b[39;49mnp\u001b[39m.\u001b[39;49mcopy(x0), rhobeg\u001b[39m=\u001b[39;49mrhobeg,\n\u001b[1;32m    274\u001b[0m                               rhoend\u001b[39m=\u001b[39;49mrhoend, iprint\u001b[39m=\u001b[39;49miprint, maxfun\u001b[39m=\u001b[39;49mmaxfun,\n\u001b[1;32m    275\u001b[0m                               dinfo\u001b[39m=\u001b[39;49minfo, callback\u001b[39m=\u001b[39;49mwrapped_callback)\n\u001b[1;32m    277\u001b[0m \u001b[39mif\u001b[39;00m info[\u001b[39m3\u001b[39m] \u001b[39m>\u001b[39m catol:\n\u001b[1;32m    278\u001b[0m     \u001b[39m# Check constraint violation\u001b[39;00m\n\u001b[1;32m    279\u001b[0m     info[\u001b[39m0\u001b[39m] \u001b[39m=\u001b[39m \u001b[39m4\u001b[39m\n",
      "File \u001b[0;32m~/qrao_experiment/.venv/lib/python3.8/site-packages/scipy/optimize/_cobyla_py.py:268\u001b[0m, in \u001b[0;36m_minimize_cobyla.<locals>.wrapped_callback\u001b[0;34m(x)\u001b[0m\n\u001b[1;32m    265\u001b[0m         i \u001b[39m+\u001b[39m\u001b[39m=\u001b[39m size\n\u001b[1;32m    266\u001b[0m     \u001b[39mreturn\u001b[39;00m f\n\u001b[0;32m--> 268\u001b[0m \u001b[39mdef\u001b[39;00m \u001b[39mwrapped_callback\u001b[39m(x):\n\u001b[1;32m    269\u001b[0m     \u001b[39mif\u001b[39;00m callback \u001b[39mis\u001b[39;00m \u001b[39mnot\u001b[39;00m \u001b[39mNone\u001b[39;00m:\n\u001b[1;32m    270\u001b[0m         callback(np\u001b[39m.\u001b[39mcopy(x))\n",
      "\u001b[0;31mKeyboardInterrupt\u001b[0m: "
     ]
    }
   ],
   "source": [
    "from networkx import node_link_data\n",
    "\n",
    "for deg, num_vertices in search_pattern.items():\n",
    "    for num in num_vertices:\n",
    "        for m, n in qrao_patterns:\n",
    "            for i in tqdm(range(TRIAL)):\n",
    "                graph, instance = regular_graph(num, deg)\n",
    "                root_path = f\"results/regular/deg{deg}/nodes{num}/trial{i}\"\n",
    "                os.makedirs(root_path, exist_ok=True)\n",
    "                with open(f\"{root_path}/graph_data.pkl\", \"wb\") as f:\n",
    "                    pickle.dump(node_link_data(graph), f)\n",
    "\n",
    "                run_qrao(\n",
    "                    m,\n",
    "                    n,\n",
    "                    instance,\n",
    "                    MAX_LEVEL,\n",
    "                    f\"results/regular/deg{deg}/nodes{num}/trial{i}\",\n",
    "                    ROUNDING_SHOTS,\n",
    "                )"
   ]
  },
  {
   "cell_type": "code",
   "execution_count": null,
   "metadata": {},
   "outputs": [],
   "source": []
  }
 ],
 "metadata": {
  "kernelspec": {
   "display_name": "Python 3.8.13 ('.venv': venv)",
   "language": "python",
   "name": "python3"
  },
  "language_info": {
   "codemirror_mode": {
    "name": "ipython",
    "version": 3
   },
   "file_extension": ".py",
   "mimetype": "text/x-python",
   "name": "python",
   "nbconvert_exporter": "python",
   "pygments_lexer": "ipython3",
   "version": "3.8.13"
  },
  "orig_nbformat": 4,
  "vscode": {
   "interpreter": {
    "hash": "4ee7e8144fa608a24c3bc0a92b0b9c6e64f0f7943146672eabbc30b53dc4c89e"
   }
  }
 },
 "nbformat": 4,
 "nbformat_minor": 2
}
