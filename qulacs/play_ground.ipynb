{
 "cells": [
  {
   "cell_type": "code",
   "execution_count": 25,
   "metadata": {},
   "outputs": [],
   "source": [
    "from maxcut_instance_generator import regular_graph\n",
    "\n",
    "graph, model = regular_graph(num_nodes=30, degree=3, weighted=False)"
   ]
  },
  {
   "cell_type": "code",
   "execution_count": 26,
   "metadata": {},
   "outputs": [
    {
     "name": "stdout",
     "output_type": "stream",
     "text": [
      "(1.5+0j)XIIIXIIIIII\n",
      "(1.5+0j)XIIIZIIIIII\n",
      "(1.5+0j)XIIIIIIIIIX\n",
      "(1.5+0j)YIIIIIIIXII\n",
      "(1.5+0j)YIIIIYIIIII\n",
      "(1.5+0j)YIIIIIYIIII\n",
      "(1.5+0j)ZIIIIZIIIII\n",
      "(1.5+0j)ZIIIIIIIYII\n",
      "(1.5+0j)ZIIIIIIIZII\n",
      "(1.5+0j)IXIIIIZIIII\n",
      "(1.5+0j)IXIIIIIIIYI\n",
      "(1.5+0j)IXIIIIIIIZI\n",
      "(1.5+0j)IYIIYIIIIII\n",
      "(1.5+0j)IYIIIIIXIII\n",
      "(1.5+0j)IYIIIIIIIIY\n",
      "(1.5+0j)IZIIIXIIIII\n",
      "(1.5+0j)IZIIIYIIIII\n",
      "(1.5+0j)IZIIIIIIIXI\n",
      "(1.5+0j)IIIIXIIIXII\n",
      "(1.5+0j)IIIIXIIIIYI\n",
      "(1.5+0j)IIIIYIIIZII\n",
      "(1.5+0j)IIIYYIIIIII\n",
      "(1.5+0j)IIIIZIIIXII\n",
      "(1.5+0j)IIIIZIIIZII\n",
      "(1.5+0j)IIIYIXIIIII\n",
      "(1.5+0j)IIIIIXIIIIY\n",
      "(1.5+0j)IIIXIYIIIII\n",
      "(1.5+0j)IIXIIIXIIII\n",
      "(1.5+0j)IIXIIIIXIII\n",
      "(1.5+0j)IIXIIIIIIIY\n",
      "(1.5+0j)IIIIIZIIYII\n",
      "(1.5+0j)IIZIIZIIIII\n",
      "(1.5+0j)IIYIIIXIIII\n",
      "(1.5+0j)IIYIIIIXIII\n",
      "(1.5+0j)IIYIIIIIIIZ\n",
      "(1.5+0j)IIIIIIXIYII\n",
      "(1.5+0j)IIIIIIYIIIX\n",
      "(1.5+0j)IIIIIIYIIIZ\n",
      "(1.5+0j)IIZIIIIIIIX\n",
      "(1.5+0j)IIZIIIIIIIZ\n",
      "(1.5+0j)IIIIIIZIIXI\n",
      "(1.5+0j)IIIIIIZIIZI\n",
      "(1.5+0j)IIIXIIIIIXI\n",
      "(1.5+0j)IIIXIIIIIYI\n",
      "(1.5+0j)IIIYIIIIIZI\n",
      "(-22.5+0j)IIIIIIIIIII\n",
      "None\n"
     ]
    }
   ],
   "source": [
    "from encoding import RandomAccessEncoder\n",
    "\n",
    "# Quantum Random Access Encoders\n",
    "qrac = RandomAccessEncoder(3, 1)\n",
    "\n",
    "# Hamiltonians\n",
    "H = qrac.generate_hamiltonian(model)\n",
    "\n",
    "# Print Hamiltonians\n",
    "print(qrac.print_hamiltonian(H))"
   ]
  },
  {
   "cell_type": "code",
   "execution_count": 27,
   "metadata": {},
   "outputs": [
    {
     "name": "stdout",
     "output_type": "stream",
     "text": [
      "11 25\n",
      "{(3, 4), (4, 9), (5, 10), (0, 5), (1, 6), (0, 8), (2, 5), (1, 9), (6, 8), (3, 9), (4, 8), (0, 4), (0, 10), (2, 7), (1, 5), (2, 10), (6, 10), (3, 5), (5, 8), (1, 4), (0, 6), (1, 7), (2, 6), (1, 10), (6, 9)}\n"
     ]
    }
   ],
   "source": [
    "print(len(qrac.qubit_to_vertex_map), len(qrac.calculate_edge_among_qubits(model)))\n",
    "print(qrac.calculate_edge_among_qubits(model))"
   ]
  },
  {
   "cell_type": "code",
   "execution_count": 28,
   "metadata": {},
   "outputs": [
    {
     "name": "stdout",
     "output_type": "stream",
     "text": [
      "finish 0\n"
     ]
    }
   ],
   "source": [
    "import numpy as np\n",
    "from vqe import VQEForQRAO\n",
    "\n",
    "sweeps = 50\n",
    "num_layer = 1\n",
    "\n",
    "vqe_0 = VQEForQRAO(\n",
    "    hamiltonian=H,\n",
    "    entanglement=\"linear\",\n",
    "    num_layer=0,\n",
    "    qubit_pairs=qrac.calculate_edge_among_qubits(model),\n",
    "    rotation_gate=\"efficientSU2\",\n",
    "    method=\"NFT\",\n",
    "    options={\"maxfev\": (sweeps + 1) * len(qrac.qubit_to_vertex_map) * 2 * (0 + 1) * 2},\n",
    ")\n",
    "vqe_5 = VQEForQRAO(\n",
    "    hamiltonian=H,\n",
    "    entanglement=\"linear\",\n",
    "    num_layer=5,\n",
    "    qubit_pairs=qrac.calculate_edge_among_qubits(model),\n",
    "    rotation_gate=\"efficientSU2\",\n",
    "    method=\"NFT\",\n",
    "    options={\"maxfev\": (sweeps + 1) * len(qrac.qubit_to_vertex_map) * 2 * (5 + 1) * 2},\n",
    ")\n",
    "vqe_10 = VQEForQRAO(\n",
    "    hamiltonian=H,\n",
    "    entanglement=\"linear\",\n",
    "    num_layer=10,\n",
    "    qubit_pairs=qrac.calculate_edge_among_qubits(model),\n",
    "    rotation_gate=\"efficientSU2\",\n",
    "    method=\"NFT\",\n",
    "    options={\"maxfev\": (sweeps + 1) * len(qrac.qubit_to_vertex_map) * 2 * (10 + 1) * 2},\n",
    ")\n",
    "cost_history_0, best_theta_list_0 = vqe_0.minimize()\n",
    "print(\"finish 0\")\n",
    "cost_history_5, best_theta_list_5 = vqe_5.minimize()\n",
    "print(\"finish 5\")\n",
    "cost_history_10, best_theta_list_10 = vqe_10.minimize()\n",
    "print(\"finish 10\")"
   ]
  },
  {
   "cell_type": "code",
   "execution_count": 5,
   "metadata": {},
   "outputs": [
    {
     "name": "stdout",
     "output_type": "stream",
     "text": [
      "905 18\n",
      "5424 108\n",
      "9944 198\n"
     ]
    }
   ],
   "source": [
    "print(len(cost_history_0), len(best_theta_list_0))\n",
    "print(len(cost_history_5), len(best_theta_list_5))\n",
    "print(len(cost_history_10), len(best_theta_list_10))"
   ]
  },
  {
   "cell_type": "code",
   "execution_count": 8,
   "metadata": {},
   "outputs": [],
   "source": [
    "from numpy.linalg import eigh\n",
    "a, b = eigh(qrac.get_hamiltonian_matrix(H))"
   ]
  },
  {
   "cell_type": "code",
   "execution_count": 13,
   "metadata": {},
   "outputs": [
    {
     "data": {
      "text/plain": [
       "array([-33.55578647, -33.55578647, -32.74971714, -32.74971714,\n",
       "       -32.21701716, -32.21701716, -32.00589097, -32.00589097,\n",
       "       -30.98718442, -30.98718442, -30.57217365, -30.57217365,\n",
       "       -30.52894633, -30.52894633, -30.18921399, -30.18921399,\n",
       "       -29.79439399, -29.79439399, -29.34322776, -29.34322776,\n",
       "       -28.88720162, -28.88720162, -28.88143197, -28.88143197,\n",
       "       -28.58878393, -28.58878393, -28.2450884 , -28.2450884 ,\n",
       "       -27.82770217, -27.82770217, -27.66728463, -27.66728463,\n",
       "       -27.3536944 , -27.3536944 , -27.21056576, -27.21056576,\n",
       "       -26.91313932, -26.91313932, -26.90968393, -26.90968393,\n",
       "       -26.60782717, -26.60782717, -26.58857588, -26.58857588,\n",
       "       -26.54898374, -26.54898374, -26.46096281, -26.46096281,\n",
       "       -25.82858947, -25.82858947, -25.81147656, -25.81147656,\n",
       "       -25.61491423, -25.61491423, -25.58023315, -25.58023315,\n",
       "       -25.35676947, -25.35676947, -25.2505633 , -25.2505633 ,\n",
       "       -25.24065793, -25.24065793, -25.17595371, -25.17595371,\n",
       "       -24.88743727, -24.88743727, -24.65815917, -24.65815917,\n",
       "       -24.65603575, -24.65603575, -24.40622103, -24.40622103,\n",
       "       -24.30668072, -24.30668072, -24.17973321, -24.17973321,\n",
       "       -23.99145142, -23.99145142, -23.90384905, -23.90384905,\n",
       "       -23.77698954, -23.77698954, -23.63130105, -23.63130105,\n",
       "       -23.49393728, -23.49393728, -23.40657448, -23.40657448,\n",
       "       -23.25607285, -23.25607285, -23.06671596, -23.06671596,\n",
       "       -22.83767344, -22.83767344, -22.74202296, -22.74202296,\n",
       "       -22.63379196, -22.63379196, -22.49128783, -22.49128783,\n",
       "       -22.39146149, -22.39146149, -22.21059564, -22.21059564,\n",
       "       -22.1265101 , -22.1265101 , -22.00567147, -22.00567147,\n",
       "       -21.8257355 , -21.8257355 , -21.76879476, -21.76879476,\n",
       "       -21.71568009, -21.71568009, -21.65738767, -21.65738767,\n",
       "       -21.56756464, -21.56756464, -21.29828589, -21.29828589,\n",
       "       -21.23902207, -21.23902207, -21.15973597, -21.15973597,\n",
       "       -21.15275503, -21.15275503, -21.02394143, -21.02394143,\n",
       "       -20.91133976, -20.91133976, -20.89347906, -20.89347906,\n",
       "       -20.79702785, -20.79702785, -20.63287204, -20.63287204,\n",
       "       -20.5522892 , -20.5522892 , -20.52646052, -20.52646052,\n",
       "       -20.33181364, -20.33181364, -20.27199304, -20.27199304,\n",
       "       -20.20579272, -20.20579272, -20.02681754, -20.02681754,\n",
       "       -19.93194193, -19.93194193, -19.77498254, -19.77498254,\n",
       "       -19.60778554, -19.60778554, -19.55503369, -19.55503369,\n",
       "       -19.50505417, -19.50505417, -19.43559473, -19.43559473,\n",
       "       -19.2721808 , -19.2721808 , -19.21616119, -19.21616119,\n",
       "       -19.17096755, -19.17096755, -19.10697156, -19.10697156,\n",
       "       -19.01573806, -19.01573806, -18.9205766 , -18.9205766 ,\n",
       "       -18.81836158, -18.81836158, -18.7994133 , -18.7994133 ,\n",
       "       -18.55602948, -18.55602948, -18.55003115, -18.55003115,\n",
       "       -18.41889737, -18.41889737, -18.33798531, -18.33798531,\n",
       "       -18.25923547, -18.25923547, -18.07055703, -18.07055703,\n",
       "       -18.04644704, -18.04644704, -17.93168757, -17.93168757,\n",
       "       -17.89645324, -17.89645324, -17.74493392, -17.74493392,\n",
       "       -17.71310345, -17.71310345, -17.63984819, -17.63984819,\n",
       "       -17.53051464, -17.53051464, -17.40133107, -17.40133107,\n",
       "       -17.37266618, -17.37266618, -17.24687733, -17.24687733,\n",
       "       -17.19930453, -17.19930453, -17.04253678, -17.04253678,\n",
       "       -16.84955884, -16.84955884, -16.84050586, -16.84050586,\n",
       "       -16.7684158 , -16.7684158 , -16.69696071, -16.69696071,\n",
       "       -16.66955824, -16.66955824, -16.65289736, -16.65289736,\n",
       "       -16.54651237, -16.54651237, -16.49269018, -16.49269018,\n",
       "       -16.43530537, -16.43530537, -16.39716396, -16.39716396,\n",
       "       -16.21280668, -16.21280668, -16.11081532, -16.11081532,\n",
       "       -16.05014857, -16.05014857, -16.04737723, -16.04737723,\n",
       "       -15.83576337, -15.83576337, -15.78768018, -15.78768018,\n",
       "       -15.73298836, -15.73298836, -15.61048582, -15.61048582,\n",
       "       -15.48577258, -15.48577258, -15.32973092, -15.32973092,\n",
       "       -15.28047294, -15.28047294, -15.21609636, -15.21609636,\n",
       "       -15.12599453, -15.12599453, -15.04064845, -15.04064845,\n",
       "       -14.93800934, -14.93800934, -14.90292453, -14.90292453,\n",
       "       -14.80770632, -14.80770632, -14.73568577, -14.73568577,\n",
       "       -14.56868718, -14.56868718, -14.49703061, -14.49703061,\n",
       "       -14.45553792, -14.45553792, -14.41094601, -14.41094601,\n",
       "       -14.27148711, -14.27148711, -14.11473814, -14.11473814,\n",
       "       -13.95306733, -13.95306733, -13.89216459, -13.89216459,\n",
       "       -13.83865294, -13.83865294, -13.82651322, -13.82651322,\n",
       "       -13.69140541, -13.69140541, -13.66821744, -13.66821744,\n",
       "       -13.53607952, -13.53607952, -13.42915034, -13.42915034,\n",
       "       -13.33820064, -13.33820064, -13.19557913, -13.19557913,\n",
       "       -13.13705541, -13.13705541, -13.09248715, -13.09248715,\n",
       "       -13.02078464, -13.02078464, -12.9052503 , -12.9052503 ,\n",
       "       -12.78004915, -12.78004915, -12.71767036, -12.71767036,\n",
       "       -12.65711221, -12.65711221, -12.56750582, -12.56750582,\n",
       "       -12.4692247 , -12.4692247 , -12.44970302, -12.44970302,\n",
       "       -12.18136437, -12.18136437, -12.04210927, -12.04210927,\n",
       "       -12.00348225, -12.00348225, -11.91926775, -11.91926775,\n",
       "       -11.82064787, -11.82064787, -11.7978208 , -11.7978208 ,\n",
       "       -11.7092975 , -11.7092975 , -11.64077521, -11.64077521,\n",
       "       -11.49286926, -11.49286926, -11.40419898, -11.40419898,\n",
       "       -11.34809897, -11.34809897, -11.27283541, -11.27283541,\n",
       "       -11.17968271, -11.17968271, -10.9718358 , -10.9718358 ,\n",
       "       -10.93471844, -10.93471844, -10.93369058, -10.93369058,\n",
       "       -10.69364345, -10.69364345, -10.67540387, -10.67540387,\n",
       "       -10.60172417, -10.60172417, -10.25732367, -10.25732367,\n",
       "       -10.19600978, -10.19600978, -10.18976277, -10.18976277,\n",
       "       -10.10980141, -10.10980141,  -9.8666485 ,  -9.8666485 ,\n",
       "        -9.81607991,  -9.81607991,  -9.8101936 ,  -9.8101936 ,\n",
       "        -9.75601304,  -9.75601304,  -9.72944532,  -9.72944532,\n",
       "        -9.54541334,  -9.54541334,  -9.24413869,  -9.24413869,\n",
       "        -9.20264676,  -9.20264676,  -9.17846189,  -9.17846189,\n",
       "        -9.06151983,  -9.06151983,  -9.04066811,  -9.04066811,\n",
       "        -8.98020319,  -8.98020319,  -8.88047656,  -8.88047656,\n",
       "        -8.73181927,  -8.73181927,  -8.52288749,  -8.52288749,\n",
       "        -8.39700041,  -8.39700041,  -8.32152268,  -8.32152268,\n",
       "        -8.27642552,  -8.27642552,  -7.99616977,  -7.99616977,\n",
       "        -7.98460918,  -7.98460918,  -7.9153426 ,  -7.9153426 ,\n",
       "        -7.80801999,  -7.80801999,  -7.71823803,  -7.71823803,\n",
       "        -7.65815713,  -7.65815713,  -7.37821567,  -7.37821567,\n",
       "        -7.14591791,  -7.14591791,  -7.05674213,  -7.05674213,\n",
       "        -6.93304551,  -6.93304551,  -6.81961709,  -6.81961709,\n",
       "        -6.59880076,  -6.59880076,  -6.50463271,  -6.50463271,\n",
       "        -6.44099922,  -6.44099922,  -6.38469797,  -6.38469797,\n",
       "        -5.89368455,  -5.89368455,  -5.7565763 ,  -5.7565763 ,\n",
       "        -5.73540051,  -5.73540051,  -5.71094595,  -5.71094595,\n",
       "        -5.4934601 ,  -5.4934601 ,  -5.40486599,  -5.40486599,\n",
       "        -5.30802132,  -5.30802132,  -4.91482093,  -4.91482093,\n",
       "        -4.78738465,  -4.78738465,  -4.7244729 ,  -4.7244729 ,\n",
       "        -4.54497169,  -4.54497169,  -4.39000743,  -4.39000743,\n",
       "        -4.17123727,  -4.17123727,  -4.11723593,  -4.11723593,\n",
       "        -3.75468412,  -3.75468412,  -3.72661349,  -3.72661349,\n",
       "        -3.38866648,  -3.38866648,  -3.34185357,  -3.34185357,\n",
       "        -3.26702271,  -3.26702271,  -2.89083308,  -2.89083308,\n",
       "        -2.57389869,  -2.57389869,  -2.56748661,  -2.56748661,\n",
       "        -2.38482713,  -2.38482713,  -2.27475301,  -2.27475301,\n",
       "        -2.20260672,  -2.20260672,  -1.78702288,  -1.78702288,\n",
       "        -1.63023018,  -1.63023018,  -1.2581367 ,  -1.2581367 ,\n",
       "        -1.23850527,  -1.23850527,  -0.08970551,  -0.08970551,\n",
       "        -0.081479  ,  -0.081479  ,   0.29343424,   0.29343424,\n",
       "         0.88309495,   0.88309495,   1.03505535,   1.03505535,\n",
       "         1.36912526,   1.36912526,   2.01991154,   2.01991154,\n",
       "         2.85222613,   2.85222613,   3.07941157,   3.07941157,\n",
       "         3.97229286,   3.97229286,   5.27476966,   5.27476966])"
      ]
     },
     "execution_count": 13,
     "metadata": {},
     "output_type": "execute_result"
    }
   ],
   "source": [
    "a"
   ]
  },
  {
   "cell_type": "code",
   "execution_count": 12,
   "metadata": {},
   "outputs": [
    {
     "data": {
      "image/png": "[encoded data removed]",
      "text/plain": [
       "<Figure size 432x288 with 1 Axes>"
      ]
     },
     "metadata": {
      "needs_background": "light"
     },
     "output_type": "display_data"
    }
   ],
   "source": [
    "import matplotlib.pyplot as plt\n",
    "\n",
    "%matplotlib inline\n",
    "\n",
    "plt.plot(cost_history_0[:: len(best_theta_list_0)], color=\"red\", label=\"0\")\n",
    "plt.plot(cost_history_5[:: len(best_theta_list_5)], color=\"green\", label=\"5\")\n",
    "plt.plot(cost_history_10[:: len(best_theta_list_10)], color=\"blue\", label=\"10\")\n",
    "plt.plot([0, sweeps], [a[0], a[0]], color=\"black\", label=\"ground state\")\n",
    "plt.xticks([i for i in range(sweeps + 1)])\n",
    "plt.legend()\n",
    "plt.show()"
   ]
  },
  {
   "cell_type": "code",
   "execution_count": 23,
   "metadata": {},
   "outputs": [],
   "source": [
    "from rounding import PauliRounding, MagicRounding\n",
    "\n",
    "pr_0 = PauliRounding(3, 1, 1000, vqe_0, qrac)\n",
    "mr_0 = MagicRounding(3, 1, 1000, vqe_0, qrac)\n",
    "presults_0 = pr_0.get_objective_value(model, pr_0.round(best_theta_list_0))\n",
    "mresults_0 = mr_0.get_objective_value_counts(model, mr_0.round(best_theta_list_0))\n",
    "pr_5 = PauliRounding(3, 1, 1000, vqe_5, qrac)\n",
    "mr_5 = MagicRounding(3, 1, 1000, vqe_5, qrac)\n",
    "presults_5 = pr_5.get_objective_value(model, pr_5.round(best_theta_list_5))\n",
    "mresults_5 = mr_5.get_objective_value_counts(model, mr_5.round(best_theta_list_5))\n",
    "pr_10 = PauliRounding(3, 1, 1000, vqe_10, qrac)\n",
    "mr_10 = MagicRounding(3, 1, 1000, vqe_10, qrac)\n",
    "presults_10 = pr_10.get_objective_value(model, pr_10.round(best_theta_list_10))\n",
    "mresults_10 = mr_10.get_objective_value_counts(model, mr_10.round(best_theta_list_10))"
   ]
  },
  {
   "cell_type": "code",
   "execution_count": 24,
   "metadata": {},
   "outputs": [
    {
     "name": "stdout",
     "output_type": "stream",
     "text": [
      "25.0 25.0 24.0\n",
      "{17.0: 148, 16.0: 144, 14.0: 138, 15.0: 128, 18.0: 80, 19.0: 75, 13.0: 75, 12.0: 64, 20.0: 47, 11.0: 44, 10.0: 17, 21.0: 16, 9.0: 7, 22.0: 6, 7.0: 2, 6.0: 2, 23.0: 2, 8.0: 2, 3.0: 1, 5.0: 1, 24.0: 1} {16.0: 148, 15.0: 131, 17.0: 128, 14.0: 114, 18.0: 110, 13.0: 96, 19.0: 81, 12.0: 49, 11.0: 43, 20.0: 31, 10.0: 22, 21.0: 18, 9.0: 11, 22.0: 7, 23.0: 5, 8.0: 3, 24.0: 2, 5.0: 1} {16.0: 150, 15.0: 145, 17.0: 123, 14.0: 109, 18.0: 104, 13.0: 93, 19.0: 64, 12.0: 64, 20.0: 41, 11.0: 40, 10.0: 23, 9.0: 15, 21.0: 12, 22.0: 7, 7.0: 4, 8.0: 4, 6.0: 2}\n",
      "solution for: maxcut\n",
      "objective: 26\n",
      "x0=1\n",
      "x1=1\n",
      "x2=1\n",
      "x4=1\n",
      "x6=1\n",
      "x8=1\n",
      "x14=1\n",
      "x15=1\n",
      "x18=1\n",
      "x19=1\n",
      "\n"
     ]
    }
   ],
   "source": [
    "print(presults_0, presults_5, presults_10)\n",
    "print(mresults_0, mresults_5, mresults_10)\n",
    "print(model.solve())"
   ]
  },
  {
   "cell_type": "code",
   "execution_count": 9,
   "metadata": {},
   "outputs": [],
   "source": [
    "from qutip import qeye, sigmax, sigmay, sigmaz, tensor, basis\n",
    "\n",
    "def state(b_1, b_2, b_3):\n",
    "    ket_0, ket_1 = basis(2, 0), basis(2, 1)\n",
    "    cos_theta = np.sqrt(1/2 + np.sqrt(3)/6)\n",
    "    sin_theta = np.sqrt(1/2 - np.sqrt(3)/6)\n",
    "    bits_pat = (b_3, b_1, b_2)\n",
    "    if bits_pat == (0, 0, 0):\n",
    "        state = cos_theta * ket_0 + np.exp(np.pi * 1j / 4) * sin_theta * ket_1\n",
    "    elif bits_pat == (0, 0, 1):\n",
    "        state = cos_theta * ket_0 + np.exp(-np.pi * 1j / 4) * sin_theta * ket_1\n",
    "    elif bits_pat == (0, 1, 0):\n",
    "        state = cos_theta * ket_0 + np.exp(np.pi * 3j / 4) * sin_theta * ket_1\n",
    "    elif bits_pat == (0, 1, 1):\n",
    "        state = cos_theta * ket_0 + np.exp(-np.pi * 3j / 4) * sin_theta * ket_1\n",
    "    elif bits_pat == (1, 0, 0):\n",
    "        state = sin_theta * ket_0 + np.exp(np.pi * 1j / 4) * cos_theta * ket_1\n",
    "    elif bits_pat == (1, 0, 1):\n",
    "        state = sin_theta * ket_0 + np.exp(-np.pi * 1j / 4) * cos_theta * ket_1\n",
    "    elif bits_pat == (1, 1, 0):\n",
    "        state = sin_theta * ket_0 + np.exp(np.pi * 3j / 4) * cos_theta * ket_1\n",
    "    elif bits_pat == (1, 1, 1):\n",
    "        state = sin_theta * ket_0 + np.exp(-np.pi * 3j / 4) * cos_theta * ket_1\n",
    "    else:\n",
    "        raise ValueError\n",
    "    return state\n",
    "\n",
    "def make_state_from_decoded_results(decoded_results):\n",
    "    ws_state = None\n",
    "    for (b_1, b_2, b_3) in zip(decoded_results[0], decoded_results[1], decoded_results[2]):\n",
    "        if ws_state is None:\n",
    "            ws_state = state(b_1, b_2, b_3)\n",
    "        else:\n",
    "            ws_state = tensor(ws_state, state(b_1, b_2, b_3))\n",
    "    return ws_state"
   ]
  },
  {
   "cell_type": "code",
   "execution_count": 10,
   "metadata": {},
   "outputs": [],
   "source": [
    "ws_state = make_state_from_decoded_results(decoded_results).full()"
   ]
  },
  {
   "cell_type": "code",
   "execution_count": 26,
   "metadata": {},
   "outputs": [
    {
     "name": "stdout",
     "output_type": "stream",
     "text": [
      "finish\n"
     ]
    }
   ],
   "source": [
    "ws_vqe = VQEForQRAO(\n",
    "    hamiltonian=H,\n",
    "    entanglement=\"linear\",\n",
    "    num_layer=num_layer,\n",
    "    qubit_pairs=qrac.calculate_edge_among_qubits(model),\n",
    "    rotation_gate=\"efficientSU2\",\n",
    "    method=\"NFT\",\n",
    "    options={\"maxfev\": (sweeps + 1) * len(qrac.qubit_to_vertex_map) * 2 * (num_layer + 1) * 2},\n",
    "    init_state=ws_state,\n",
    "    init_params=\"zero\",\n",
    ")\n",
    "\n",
    "ws_cost_history, ws_best_theta_list = ws_vqe.minimize()\n",
    "print(\"finish\")"
   ]
  },
  {
   "cell_type": "code",
   "execution_count": 20,
   "metadata": {},
   "outputs": [
    {
     "data": {
      "image/png": "[encoded data removed]",
      "text/plain": [
       "<Figure size 432x288 with 1 Axes>"
      ]
     },
     "metadata": {
      "needs_background": "light"
     },
     "output_type": "display_data"
    }
   ],
   "source": [
    "import matplotlib.pyplot as plt\n",
    "\n",
    "%matplotlib inline\n",
    "\n",
    "plt.plot(ws_cost_history[:: len(ws_best_theta_list)], color=\"red\", label=\"0\")\n",
    "plt.xticks([i for i in range(16)])\n",
    "plt.legend()\n",
    "plt.show()"
   ]
  },
  {
   "cell_type": "code",
   "execution_count": 21,
   "metadata": {},
   "outputs": [],
   "source": [
    "ws_pr = PauliRounding(3, 1, 1000, ws_vqe, qrac)\n",
    "ws_mr = MagicRounding(3, 1, 1000, ws_vqe, qrac)"
   ]
  },
  {
   "cell_type": "code",
   "execution_count": 22,
   "metadata": {},
   "outputs": [
    {
     "name": "stdout",
     "output_type": "stream",
     "text": [
      "1101010000001101110100111001000110011101 54.0\n"
     ]
    }
   ],
   "source": [
    "ws_pr_sol = ws_pr.round(ws_best_theta_list)\n",
    "ws_pr_val = ws_pr.get_objective_value(model, ws_pr_sol)\n",
    "print(ws_pr_sol, ws_pr_val)"
   ]
  },
  {
   "cell_type": "code",
   "execution_count": 23,
   "metadata": {},
   "outputs": [
    {
     "name": "stdout",
     "output_type": "stream",
     "text": [
      "1101010000001101110100111001000110011101 54.0\n"
     ]
    }
   ],
   "source": [
    "pr_sol = pr.round(best_theta_list)\n",
    "pr_val = pr.get_objective_value(model, pr_sol)\n",
    "print(pr_sol, pr_val)"
   ]
  },
  {
   "cell_type": "code",
   "execution_count": 24,
   "metadata": {},
   "outputs": [
    {
     "name": "stdout",
     "output_type": "stream",
     "text": [
      "41.0\n"
     ]
    }
   ],
   "source": [
    "ws_mr_sol = ws_mr.round(ws_best_theta_list)\n",
    "ws_mr_val = max(list(ws_mr.get_objective_value_counts(model, ws_mr_sol).keys()))\n",
    "print(ws_mr_val)"
   ]
  },
  {
   "cell_type": "code",
   "execution_count": 25,
   "metadata": {},
   "outputs": [
    {
     "name": "stdout",
     "output_type": "stream",
     "text": [
      "43.0\n"
     ]
    }
   ],
   "source": [
    "mr_sol = mr.round(best_theta_list)\n",
    "mr_val = max(list(mr.get_objective_value_counts(model, mr_sol).keys()))\n",
    "print(mr_val)"
   ]
  },
  {
   "cell_type": "code",
   "execution_count": null,
   "metadata": {},
   "outputs": [],
   "source": []
  }
 ],
 "metadata": {
  "kernelspec": {
   "display_name": "Python 3",
   "language": "python",
   "name": "python3"
  },
  "language_info": {
   "codemirror_mode": {
    "name": "ipython",
    "version": 3
   },
   "file_extension": ".py",
   "mimetype": "text/x-python",
   "name": "python",
   "nbconvert_exporter": "python",
   "pygments_lexer": "ipython3",
   "version": "3.8.14"
  },
  "orig_nbformat": 4,
  "vscode": {
   "interpreter": {
    "hash": "ac1720b15ae09c0b55c2dd30e79536345c9ebe464667d12a646c27f7fc4d9415"
   }
  }
 },
 "nbformat": 4,
 "nbformat_minor": 2
}
