{
 "cells": [
  {
   "cell_type": "markdown",
   "metadata": {},
   "source": [
    "## Install and import necessary packages"
   ]
  },
  {
   "cell_type": "code",
   "execution_count": 1,
   "metadata": {},
   "outputs": [
    {
     "ename": "ModuleNotFoundError",
     "evalue": "No module named 'matplotlib'",
     "output_type": "error",
     "traceback": [
      "\u001b[0;31m---------------------------------------------------------------------------\u001b[0m",
      "\u001b[0;31mModuleNotFoundError\u001b[0m                       Traceback (most recent call last)",
      "\u001b[1;32m/Users/terapoon/workspace/qrao_experiment/qulacs/play_ground.ipynb Cell 2\u001b[0m in \u001b[0;36m<cell line: 4>\u001b[0;34m()\u001b[0m\n\u001b[1;32m      <a href='vscode-notebook-cell:/Users/terapoon/workspace/qrao_experiment/qulacs/play_ground.ipynb#ch0000001?line=1'>2</a>\u001b[0m \u001b[39mfrom\u001b[39;00m \u001b[39mscipy\u001b[39;00m\u001b[39m.\u001b[39;00m\u001b[39moptimize\u001b[39;00m \u001b[39mimport\u001b[39;00m minimize\n\u001b[1;32m      <a href='vscode-notebook-cell:/Users/terapoon/workspace/qrao_experiment/qulacs/play_ground.ipynb#ch0000001?line=2'>3</a>\u001b[0m \u001b[39mimport\u001b[39;00m \u001b[39mnumpy\u001b[39;00m \u001b[39mas\u001b[39;00m \u001b[39mnp\u001b[39;00m\n\u001b[0;32m----> <a href='vscode-notebook-cell:/Users/terapoon/workspace/qrao_experiment/qulacs/play_ground.ipynb#ch0000001?line=3'>4</a>\u001b[0m \u001b[39mimport\u001b[39;00m \u001b[39mmatplotlib\u001b[39;00m\u001b[39m.\u001b[39;00m\u001b[39mpyplot\u001b[39;00m \u001b[39mas\u001b[39;00m \u001b[39mplt\u001b[39;00m\n\u001b[1;32m      <a href='vscode-notebook-cell:/Users/terapoon/workspace/qrao_experiment/qulacs/play_ground.ipynb#ch0000001?line=5'>6</a>\u001b[0m get_ipython()\u001b[39m.\u001b[39mrun_line_magic(\u001b[39m'\u001b[39m\u001b[39mmatplotlib\u001b[39m\u001b[39m'\u001b[39m, \u001b[39m'\u001b[39m\u001b[39minline\u001b[39m\u001b[39m'\u001b[39m)\n",
      "\u001b[0;31mModuleNotFoundError\u001b[0m: No module named 'matplotlib'"
     ]
    }
   ],
   "source": [
    "import qulacs\n",
    "from scipy.optimize import minimize\n",
    "import numpy as np\n",
    "import matplotlib.pyplot as plt\n",
    "\n",
    "%matplotlib inline"
   ]
  },
  {
   "cell_type": "markdown",
   "metadata": {},
   "source": [
    "## Create Hamiltonian"
   ]
  },
  {
   "cell_type": "code",
   "execution_count": 5,
   "metadata": {},
   "outputs": [],
   "source": [
    "from qulacs import Observable"
   ]
  },
  {
   "cell_type": "code",
   "execution_count": 6,
   "metadata": {},
   "outputs": [],
   "source": [
    "def create_qulacs_hamiltonian(n_qubit):\n",
    "    coef = 2.0\n",
    "    Pauli_string = \"X 0 Y 2\"\n",
    "    observable = Observable(n_qubit)\n",
    "    observable.add_operator(coef, Pauli_string)\n",
    "    return observable"
   ]
  },
  {
   "cell_type": "markdown",
   "metadata": {},
   "source": [
    "## Construct ansatz"
   ]
  },
  {
   "cell_type": "code",
   "execution_count": 7,
   "metadata": {},
   "outputs": [],
   "source": [
    "from qulacs import QuantumState, QuantumCircuit\n",
    "from qulacs.gate import CZ, RY, RZ, merge"
   ]
  },
  {
   "cell_type": "code",
   "execution_count": 15,
   "metadata": {},
   "outputs": [],
   "source": [
    "def ansatz_circuit(n_qubit, level, theta_list):\n",
    "    circuit = QuantumCircuit(n_qubit)\n",
    "    for l in range(level):\n",
    "        for i in range(n_qubit):\n",
    "            circuit.add_gate(\n",
    "                merge(\n",
    "                    RY(i, theta_list[2 * i + 2 * n_qubit * l]),\n",
    "                    RZ(i, theta_list[2 * i + 1 + 2 * n_qubit * l]),\n",
    "                )\n",
    "            )\n",
    "        for i in range(n_qubit // 2):\n",
    "            circuit.add_gate(CZ(2 * i, 2 * i + 1))\n",
    "        for i in range(n_qubit // 2 - 1):\n",
    "            circuit.add_gate(CZ(2 * i + 1, 2 * i + 2))\n",
    "    for i in range(n_qubit):\n",
    "        circuit.add_gate(\n",
    "            merge(\n",
    "                RY(i, theta_list[2 * i + 2 * n_qubit * level]),\n",
    "                RZ(i, theta_list[2 * i + 1 + 2 * n_qubit * level]),\n",
    "            )\n",
    "        )\n",
    "\n",
    "    return circuit"
   ]
  },
  {
   "cell_type": "markdown",
   "metadata": {},
   "source": [
    "## Define cost function"
   ]
  },
  {
   "cell_type": "code",
   "execution_count": 16,
   "metadata": {},
   "outputs": [],
   "source": [
    "def cost(theta_list, n_qubit, level):\n",
    "    # Prepare |00...0>\n",
    "    state = QuantumState(n_qubit)\n",
    "    # Construct quantum circuit\n",
    "    circuit = ansatz_circuit(n_qubit, level, theta_list)\n",
    "    # Operate quantum circuit on state\n",
    "    circuit.update_quantum_state(state)\n",
    "    # Calcuulate expectation value of Hamiltonian\n",
    "    hamiltonian = create_qulacs_hamiltonian(n_qubit)\n",
    "    return hamiltonian.get_expectation_value(state)"
   ]
  },
  {
   "cell_type": "markdown",
   "metadata": {},
   "source": [
    "## Run VQE"
   ]
  },
  {
   "cell_type": "code",
   "execution_count": 34,
   "metadata": {},
   "outputs": [],
   "source": [
    "n_qubit = 13\n",
    "level = 3"
   ]
  },
  {
   "cell_type": "code",
   "execution_count": 35,
   "metadata": {},
   "outputs": [
    {
     "name": "stdout",
     "output_type": "stream",
     "text": [
      "Iter\tcost\n",
      "1\t-1.6181058583843677\n",
      "2\t-1.6189896532893442\n",
      "3\t-1.7588917473699561\n",
      "4\t-1.956455343598472\n",
      "5\t-1.9878284977450853\n",
      "6\t-1.9962788076355507\n",
      "7\t-1.9998723592079584\n",
      "8\t-1.999951936979173\n",
      "9\t-1.999963219425712\n",
      "10\t-1.9999791204466302\n",
      "11\t-1.9999930581589125\n",
      "12\t-1.9999965668492168\n",
      "13\t-1.9999967703745762\n",
      "14\t-1.9999968197020723\n",
      "15\t-1.9999969093466328\n",
      "16\t-1.9999970691600721\n",
      "17\t-1.999997325873095\n",
      "18\t-1.999997561407895\n",
      "19\t-1.9999976289391386\n",
      "20\t-1.9999976978202216\n",
      "21\t-1.9999977493662915\n",
      "22\t-1.9999978400690233\n",
      "23\t-1.999998001686986\n",
      "24\t-1.9999982824486302\n",
      "25\t-1.9999987355523907\n",
      "26\t-1.99999931253876\n",
      "27\t-1.9999996650566343\n",
      "28\t-1.9999998480883605\n",
      "29\t-1.9999998673782236\n",
      "30\t-1.999999867804763\n",
      "31\t-1.9999998681672813\n",
      "32\t-1.9999998688448761\n",
      "33\t-1.9999998701200719\n",
      "34\t-1.9999998724752868\n",
      "35\t-1.9999998761699391\n",
      "36\t-1.9999998824951746\n",
      "37\t-1.9999998927059797\n",
      "38\t-1.9999999103140367\n",
      "39\t-1.999999938518468\n",
      "40\t-1.9999999770292838\n",
      "41\t-1.9999999949294767\n",
      "42\t-1.9999999994588296\n",
      "43\t-1.9999999998966453\n",
      "44\t-1.9999999999419777\n",
      "Optimization terminated successfully.\n",
      "         Current function value: -2.000000\n",
      "         Iterations: 44\n",
      "         Function evaluations: 6300\n",
      "         Gradient evaluations: 60\n"
     ]
    }
   ],
   "source": [
    "cost_history = []\n",
    "init_theta_list = np.random.random(2 * n_qubit * (level + 1)) * 1e-1\n",
    "cost_history.append(cost(init_theta_list, n_qubit, level))\n",
    "method = \"BFGS\"\n",
    "# Nelder-Mead, Powell, CG, Newton-CG, L-BFGS-B, TNC, COBYLA, SLSQP, trust-constr, dogleg, trust-ncg, trust-exact, trust-krylov\n",
    "options = {\"disp\": True, \"maxiter\": 50, \"gtol\": 1e-6}\n",
    "\n",
    "num_iter = 1\n",
    "\n",
    "\n",
    "def callback(x):\n",
    "    global num_iter\n",
    "    cost_val = cost(x, n_qubit, level)\n",
    "    cost_history.append(cost_val)\n",
    "    print(f'{num_iter}/{options[\"maxiter\"]}\\t{cost_val}')\n",
    "    num_iter += 1\n",
    "\n",
    "\n",
    "print(\"Iter\\tcost\")\n",
    "opt = minimize(\n",
    "    cost,\n",
    "    init_theta_list,\n",
    "    args=(n_qubit, level),\n",
    "    method=method,\n",
    "    options=options,\n",
    "    callback=callback,\n",
    ")"
   ]
  },
  {
   "cell_type": "code",
   "execution_count": 36,
   "metadata": {},
   "outputs": [
    {
     "data": {
      "image/png": "[encoded data removed]",
      "text/plain": [
       "<Figure size 432x288 with 1 Axes>"
      ]
     },
     "metadata": {
      "needs_background": "light"
     },
     "output_type": "display_data"
    }
   ],
   "source": [
    "plt.rcParams[\"font.size\"] = 18\n",
    "plt.plot(cost_history, color=\"red\", label=\"VQE\")\n",
    "plt.plot(\n",
    "    range(len(cost_history)),\n",
    "    [-1.0] * len(cost_history),\n",
    "    linestyle=\"dashed\",\n",
    "    color=\"black\",\n",
    "    label=\"Exact Solution\",\n",
    ")\n",
    "plt.xlabel(\"Iteration\")\n",
    "plt.ylabel(\"Energy expectation value\")\n",
    "plt.legend()\n",
    "plt.show()"
   ]
  },
  {
   "cell_type": "code",
   "execution_count": 3,
   "metadata": {},
   "outputs": [
    {
     "data": {
      "image/png": "[encoded data removed]",
      "text/plain": [
       "<Figure size 432x288 with 1 Axes>"
      ]
     },
     "metadata": {},
     "output_type": "display_data"
    }
   ],
   "source": [
    "from maxcut_instance_generator import regular_graph\n",
    "\n",
    "model = regular_graph(3, 2, draw=True)"
   ]
  },
  {
   "cell_type": "code",
   "execution_count": 4,
   "metadata": {},
   "outputs": [
    {
     "data": {
      "text/plain": [
       "docplex.mp.quad.QuadExpr(-4x0*x1-4x0*x2-4x1*x2+4x0+4x1+4x2)"
      ]
     },
     "execution_count": 4,
     "metadata": {},
     "output_type": "execute_result"
    }
   ],
   "source": [
    "model.get_objective_expr()"
   ]
  },
  {
   "cell_type": "code",
   "execution_count": 5,
   "metadata": {},
   "outputs": [
    {
     "data": {
      "text/plain": [
       "'-4x0*x1-4x0*x2-4x1*x2+4x0+4x1+4x2'"
      ]
     },
     "execution_count": 5,
     "metadata": {},
     "output_type": "execute_result"
    }
   ],
   "source": [
    "str(model.get_objective_expr())"
   ]
  },
  {
   "cell_type": "code",
   "execution_count": 6,
   "metadata": {},
   "outputs": [
    {
     "data": {
      "text/plain": [
       "docplex.mp.solution.SolveSolution(obj=4,values={x0:1})"
      ]
     },
     "execution_count": 6,
     "metadata": {},
     "output_type": "execute_result"
    }
   ],
   "source": [
    "model.solve()"
   ]
  },
  {
   "cell_type": "code",
   "execution_count": 10,
   "metadata": {},
   "outputs": [
    {
     "data": {
      "text/plain": [
       "2"
      ]
     },
     "execution_count": 10,
     "metadata": {},
     "output_type": "execute_result"
    }
   ],
   "source": [
    "model.objective_sense.value"
   ]
  },
  {
   "cell_type": "code",
   "execution_count": 19,
   "metadata": {},
   "outputs": [
    {
     "data": {
      "text/plain": [
       "0"
      ]
     },
     "execution_count": 19,
     "metadata": {},
     "output_type": "execute_result"
    }
   ],
   "source": [
    "model.objective_expr.constant"
   ]
  },
  {
   "cell_type": "code",
   "execution_count": 21,
   "metadata": {},
   "outputs": [
    {
     "data": {
      "text/plain": [
       "docplex.mp.LinearExpr(4x0+4x1+4x2)"
      ]
     },
     "execution_count": 21,
     "metadata": {},
     "output_type": "execute_result"
    }
   ],
   "source": [
    "model.objective_expr.linear_part"
   ]
  },
  {
   "cell_type": "code",
   "execution_count": 43,
   "metadata": {},
   "outputs": [
    {
     "name": "stdout",
     "output_type": "stream",
     "text": [
      "x0 x1 -4\n",
      "x0 x2 -4\n",
      "x1 x2 -4\n"
     ]
    }
   ],
   "source": [
    "for i, j, coef in model.objective_expr.iter_quad_triplets():\n",
    "    print(i.name, j.name, coef)"
   ]
  },
  {
   "cell_type": "code",
   "execution_count": 45,
   "metadata": {},
   "outputs": [],
   "source": [
    "sense = -1 if model.is_maximized() else 1"
   ]
  },
  {
   "cell_type": "code",
   "execution_count": 41,
   "metadata": {},
   "outputs": [
    {
     "ename": "TypeError",
     "evalue": "",
     "output_type": "error",
     "traceback": [
      "\u001b[0;31m---------------------------------------------------------------------------\u001b[0m",
      "\u001b[0;31mTypeError\u001b[0m                                 Traceback (most recent call last)",
      "\u001b[1;32m/home/s54005/qrao_experiment/qulacs/play_ground.ipynb Cell 26\u001b[0m in \u001b[0;36m<cell line: 4>\u001b[0;34m()\u001b[0m\n\u001b[1;32m      <a href='vscode-notebook-cell://ssh-remote%2Bwisteria.cc.u-tokyo.ac.jp/home/s54005/qrao_experiment/qulacs/play_ground.ipynb#ch0000026vscode-remote?line=0'>1</a>\u001b[0m \u001b[39mimport\u001b[39;00m \u001b[39mnumpy\u001b[39;00m \u001b[39mas\u001b[39;00m \u001b[39mnp\u001b[39;00m\n\u001b[1;32m      <a href='vscode-notebook-cell://ssh-remote%2Bwisteria.cc.u-tokyo.ac.jp/home/s54005/qrao_experiment/qulacs/play_ground.ipynb#ch0000026vscode-remote?line=2'>3</a>\u001b[0m linear \u001b[39m=\u001b[39m np\u001b[39m.\u001b[39mzeros(model\u001b[39m.\u001b[39mnumber_of_binary_variables)\n\u001b[0;32m----> <a href='vscode-notebook-cell://ssh-remote%2Bwisteria.cc.u-tokyo.ac.jp/home/s54005/qrao_experiment/qulacs/play_ground.ipynb#ch0000026vscode-remote?line=3'>4</a>\u001b[0m \u001b[39mfor\u001b[39;00m idx, coef \u001b[39min\u001b[39;00m model\u001b[39m.\u001b[39mobjective_expr\u001b[39m.\u001b[39mlinear_part:\n\u001b[1;32m      <a href='vscode-notebook-cell://ssh-remote%2Bwisteria.cc.u-tokyo.ac.jp/home/s54005/qrao_experiment/qulacs/play_ground.ipynb#ch0000026vscode-remote?line=4'>5</a>\u001b[0m     \u001b[39mprint\u001b[39m(idx, coef)\n",
      "File \u001b[0;32m~/qrao_experiment/.venv/lib/python3.8/site-packages/docplex/mp/linear.py:50\u001b[0m, in \u001b[0;36mAbstractLinearExpr.__iter__\u001b[0;34m(self)\u001b[0m\n\u001b[1;32m     46\u001b[0m \u001b[39mdef\u001b[39;00m \u001b[39m__iter__\u001b[39m(\u001b[39mself\u001b[39m):\n\u001b[1;32m     47\u001b[0m     \u001b[39m# INTERNAL: this is necessary to prevent expr from being an iterable.\u001b[39;00m\n\u001b[1;32m     48\u001b[0m     \u001b[39m# as it follows getitem protocol, it can mistakenly be interpreted as an iterable\u001b[39;00m\n\u001b[1;32m     49\u001b[0m     \u001b[39m# but this would make sum loop forever.\u001b[39;00m\n\u001b[0;32m---> 50\u001b[0m     \u001b[39mraise\u001b[39;00m \u001b[39mTypeError\u001b[39;00m\n",
      "\u001b[0;31mTypeError\u001b[0m: "
     ]
    }
   ],
   "source": [
    "import numpy as np\n",
    "\n",
    "linear = np.zeros(model.number_of_binary_variables)\n",
    "for idx, coef in model.objective_expr.linear_part:\n",
    "    weight = coef * sense / 2\n",
    "    linear[idx] -= weight\n",
    "    offset += weight"
   ]
  },
  {
   "cell_type": "code",
   "execution_count": null,
   "metadata": {},
   "outputs": [],
   "source": []
  }
 ],
 "metadata": {
  "kernelspec": {
   "display_name": "Python 3.8.13 ('.venv': venv)",
   "language": "python",
   "name": "python3"
  },
  "language_info": {
   "codemirror_mode": {
    "name": "ipython",
    "version": 3
   },
   "file_extension": ".py",
   "mimetype": "text/x-python",
   "name": "python",
   "nbconvert_exporter": "python",
   "pygments_lexer": "ipython3",
   "version": "3.8.13"
  },
  "orig_nbformat": 4,
  "vscode": {
   "interpreter": {
    "hash": "4ee7e8144fa608a24c3bc0a92b0b9c6e64f0f7943146672eabbc30b53dc4c89e"
   }
  }
 },
 "nbformat": 4,
 "nbformat_minor": 2
}
