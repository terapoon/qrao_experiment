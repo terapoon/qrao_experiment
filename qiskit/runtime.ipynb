{
 "cells": [
  {
   "cell_type": "code",
   "execution_count": 3,
   "metadata": {},
   "outputs": [],
   "source": [
    "from qiskit_ibm_runtime import QiskitRuntimeService, Session, Estimator, Options\n",
    "import numpy as np\n",
    "\n",
    "service = QiskitRuntimeService()\n",
    "\n",
    "kawasaki = \"ibm_kawasaki\"\n",
    "simulator = \"ibmq_qasm_simulator\""
   ]
  },
  {
   "cell_type": "code",
   "execution_count": 10,
   "metadata": {},
   "outputs": [],
   "source": [
    "from qiskit.algorithms import MinimumEigensolverResult\n",
    "\n",
    "\n",
    "class VQEClientFixed:\n",
    "    def __init__(self, ansatz, optimizer, service, backend):\n",
    "        self.ansatz = ansatz\n",
    "        self.optimizer = optimizer\n",
    "        self.service = service\n",
    "        self.backend = backend\n",
    "\n",
    "    def compute_minimum_eigenvalue(self, hamiltonian, aux_operators=None):\n",
    "        estimator = Estimator()\n",
    "        history = []\n",
    "\n",
    "        with Session(service=self.service, backend=self.simulator):\n",
    "\n",
    "            def evaluate(x):\n",
    "                x = list(x)\n",
    "                results = (\n",
    "                    estimator.run(\n",
    "                        circuits=self.ansatz,\n",
    "                        observables=hamiltonian,\n",
    "                        parameter_values=[x],\n",
    "                    )\n",
    "                    .result()\n",
    "                    .valuves[0]\n",
    "                )\n",
    "                return np.real(results)\n",
    "\n",
    "            init = np.random.uniform(-np.pi, np.pi, len(self.ansatz.parameters))\n",
    "            result = self.optimizer.minimize(evaluate, x0=init)\n",
    "\n",
    "            sol = MinimumEigensolverResult()\n",
    "            sol.eigenvalue = result.fun\n",
    "\n",
    "        return sol"
   ]
  },
  {
   "cell_type": "code",
   "execution_count": 14,
   "metadata": {},
   "outputs": [
    {
     "name": "stdout",
     "output_type": "stream",
     "text": [
      "11\n"
     ]
    }
   ],
   "source": [
    "import sys\n",
    "\n",
    "sys.path.append(\"/work/gs54/s54005/qrao_experiment/qulacs\")\n",
    "\n",
    "from maxcut_instance_generator import _generate_model_from_graph\n",
    "from networkx import node_link_graph\n",
    "import pickle\n",
    "\n",
    "from qrao.encoding import QuantumRandomAccessEncoding\n",
    "from qrao.quantum_random_access_optimizer import QuantumRandomAccessOptimizer\n",
    "from qrao.magic_rounding import MagicRounding\n",
    "\n",
    "from qiskit_optimization.translators import from_docplex_mp\n",
    "\n",
    "with open(\n",
    "    \"/work/gs54/s54005/qrao_experiment/results2/regular/deg3/nodes30/trial0/graph_data.pkl\",\n",
    "    \"rb\",\n",
    ") as f:\n",
    "    data = pickle.load(f)\n",
    "graph = node_link_graph(data)\n",
    "num_nodes = graph.number_of_nodes()\n",
    "edge_weights = np.zeros((num_nodes, num_nodes))\n",
    "for i, j in graph.edges():\n",
    "    weight = 1\n",
    "    edge_weights[i, j] = edge_weights[j, i] = weight\n",
    "model = _generate_model_from_graph(graph, edge_weights, num_nodes)\n",
    "problem = from_docplex_mp(model)\n",
    "\n",
    "encoding = QuantumRandomAccessEncoding(max_vars_per_qubit=3)\n",
    "encoding.encode(problem)\n",
    "\n",
    "print(encoding.num_qubits)"
   ]
  },
  {
   "cell_type": "code",
   "execution_count": 16,
   "metadata": {},
   "outputs": [],
   "source": [
    "from qiskit.utils import QuantumInstance\n",
    "from qiskit.algorithms.optimizers import NFT\n",
    "from qiskit.circuit.library import EfficientSU2\n",
    "\n",
    "sweeps = 5\n",
    "level = 2\n",
    "entanglement = \"linear\"\n",
    "runtime_vqe = VQEClientFixed(\n",
    "    ansatz=EfficientSU2(\n",
    "        encoding.num_qubits,\n",
    "        reps=level,\n",
    "        entanglement=entanglement,\n",
    "    ),\n",
    "    optimizer=NFT(maxfev=(sweeps + 1) * encoding.num_qubits * 4 * (level + 1)),\n",
    "    service=service,\n",
    "    backend=simulator,\n",
    ")"
   ]
  },
  {
   "cell_type": "code",
   "execution_count": 18,
   "metadata": {},
   "outputs": [
    {
     "ename": "AttributeError",
     "evalue": "'VQEClientFixed' object has no attribute 'supports_aux_operators'",
     "output_type": "error",
     "traceback": [
      "\u001b[0;31m---------------------------------------------------------------------------\u001b[0m",
      "\u001b[0;31mAttributeError\u001b[0m                            Traceback (most recent call last)",
      "\u001b[1;32m/work/gs54/s54005/qrao_experiment/qiskit/runtime.ipynb Cell 5\u001b[0m in \u001b[0;36m<cell line: 1>\u001b[0;34m()\u001b[0m\n\u001b[0;32m----> <a href='vscode-notebook-cell://ssh-remote%2Bwisteria.cc.u-tokyo.ac.jp/work/gs54/s54005/qrao_experiment/qiskit/runtime.ipynb#W4sdnNjb2RlLXJlbW90ZQ%3D%3D?line=0'>1</a>\u001b[0m qrao \u001b[39m=\u001b[39m QuantumRandomAccessOptimizer(\n\u001b[1;32m      <a href='vscode-notebook-cell://ssh-remote%2Bwisteria.cc.u-tokyo.ac.jp/work/gs54/s54005/qrao_experiment/qiskit/runtime.ipynb#W4sdnNjb2RlLXJlbW90ZQ%3D%3D?line=1'>2</a>\u001b[0m     encoding\u001b[39m=\u001b[39;49mencoding,\n\u001b[1;32m      <a href='vscode-notebook-cell://ssh-remote%2Bwisteria.cc.u-tokyo.ac.jp/work/gs54/s54005/qrao_experiment/qiskit/runtime.ipynb#W4sdnNjb2RlLXJlbW90ZQ%3D%3D?line=2'>3</a>\u001b[0m     min_eigen_solver\u001b[39m=\u001b[39;49mruntime_vqe,\n\u001b[1;32m      <a href='vscode-notebook-cell://ssh-remote%2Bwisteria.cc.u-tokyo.ac.jp/work/gs54/s54005/qrao_experiment/qiskit/runtime.ipynb#W4sdnNjb2RlLXJlbW90ZQ%3D%3D?line=3'>4</a>\u001b[0m     rounding_scheme\u001b[39m=\u001b[39;49m\u001b[39mNone\u001b[39;49;00m,\n\u001b[1;32m      <a href='vscode-notebook-cell://ssh-remote%2Bwisteria.cc.u-tokyo.ac.jp/work/gs54/s54005/qrao_experiment/qiskit/runtime.ipynb#W4sdnNjb2RlLXJlbW90ZQ%3D%3D?line=4'>5</a>\u001b[0m )\n\u001b[1;32m      <a href='vscode-notebook-cell://ssh-remote%2Bwisteria.cc.u-tokyo.ac.jp/work/gs54/s54005/qrao_experiment/qiskit/runtime.ipynb#W4sdnNjb2RlLXJlbW90ZQ%3D%3D?line=6'>7</a>\u001b[0m result, _ \u001b[39m=\u001b[39m qrao\u001b[39m.\u001b[39msolve_relaxed()\n",
      "File \u001b[0;32m/work/04/gs54/s54005/qrao_experiment/qiskit/qrao/quantum_random_access_optimizer.py:140\u001b[0m, in \u001b[0;36mQuantumRandomAccessOptimizer.__init__\u001b[0;34m(self, min_eigen_solver, encoding, rounding_scheme)\u001b[0m\n\u001b[1;32m    121\u001b[0m \u001b[39mdef\u001b[39;00m \u001b[39m__init__\u001b[39m(\n\u001b[1;32m    122\u001b[0m     \u001b[39mself\u001b[39m,\n\u001b[1;32m    123\u001b[0m     min_eigen_solver: MinimumEigensolver,\n\u001b[1;32m    124\u001b[0m     encoding: QuantumRandomAccessEncoding,\n\u001b[1;32m    125\u001b[0m     rounding_scheme: Optional[RoundingScheme] \u001b[39m=\u001b[39m \u001b[39mNone\u001b[39;00m,\n\u001b[1;32m    126\u001b[0m ):\n\u001b[1;32m    127\u001b[0m     \u001b[39m\"\"\"\u001b[39;00m\n\u001b[1;32m    128\u001b[0m \u001b[39m    Args:\u001b[39;00m\n\u001b[1;32m    129\u001b[0m \n\u001b[0;32m   (...)\u001b[0m\n\u001b[1;32m    138\u001b[0m \n\u001b[1;32m    139\u001b[0m \u001b[39m    \"\"\"\u001b[39;00m\n\u001b[0;32m--> 140\u001b[0m     \u001b[39mself\u001b[39;49m\u001b[39m.\u001b[39;49mmin_eigen_solver \u001b[39m=\u001b[39m min_eigen_solver\n\u001b[1;32m    141\u001b[0m     \u001b[39mself\u001b[39m\u001b[39m.\u001b[39mencoding \u001b[39m=\u001b[39m encoding\n\u001b[1;32m    142\u001b[0m     \u001b[39mif\u001b[39;00m rounding_scheme \u001b[39mis\u001b[39;00m \u001b[39mNone\u001b[39;00m:\n",
      "File \u001b[0;32m/work/04/gs54/s54005/qrao_experiment/qiskit/qrao/quantum_random_access_optimizer.py:154\u001b[0m, in \u001b[0;36mQuantumRandomAccessOptimizer.min_eigen_solver\u001b[0;34m(self, min_eigen_solver)\u001b[0m\n\u001b[1;32m    151\u001b[0m \u001b[39m@min_eigen_solver\u001b[39m\u001b[39m.\u001b[39msetter\n\u001b[1;32m    152\u001b[0m \u001b[39mdef\u001b[39;00m \u001b[39mmin_eigen_solver\u001b[39m(\u001b[39mself\u001b[39m, min_eigen_solver: MinimumEigensolver) \u001b[39m-\u001b[39m\u001b[39m>\u001b[39m \u001b[39mNone\u001b[39;00m:\n\u001b[1;32m    153\u001b[0m     \u001b[39m\"\"\"Set the minimum eigensolver.\"\"\"\u001b[39;00m\n\u001b[0;32m--> 154\u001b[0m     \u001b[39mif\u001b[39;00m \u001b[39mnot\u001b[39;00m min_eigen_solver\u001b[39m.\u001b[39;49msupports_aux_operators():\n\u001b[1;32m    155\u001b[0m         \u001b[39mraise\u001b[39;00m \u001b[39mTypeError\u001b[39;00m(\n\u001b[1;32m    156\u001b[0m             \u001b[39mf\u001b[39m\u001b[39m\"\u001b[39m\u001b[39mThe provided MinimumEigensolver (\u001b[39m\u001b[39m{\u001b[39;00m\u001b[39mtype\u001b[39m(min_eigen_solver)\u001b[39m}\u001b[39;00m\u001b[39m) \u001b[39m\u001b[39m\"\u001b[39m\n\u001b[1;32m    157\u001b[0m             \u001b[39m\"\u001b[39m\u001b[39mdoes not support auxiliary operators.\u001b[39m\u001b[39m\"\u001b[39m\n\u001b[1;32m    158\u001b[0m         )\n\u001b[1;32m    159\u001b[0m     \u001b[39mself\u001b[39m\u001b[39m.\u001b[39m_min_eigen_solver \u001b[39m=\u001b[39m min_eigen_solver\n",
      "\u001b[0;31mAttributeError\u001b[0m: 'VQEClientFixed' object has no attribute 'supports_aux_operators'"
     ]
    }
   ],
   "source": [
    "qrao = QuantumRandomAccessOptimizer(\n",
    "    encoding=encoding,\n",
    "    min_eigen_solver=runtime_vqe,\n",
    "    rounding_scheme=None,\n",
    ")\n",
    "\n",
    "result, _ = qrao.solve_relaxed()"
   ]
  },
  {
   "cell_type": "code",
   "execution_count": null,
   "metadata": {},
   "outputs": [],
   "source": []
  }
 ],
 "metadata": {
  "kernelspec": {
   "display_name": "Python 3.8.14 64-bit ('3.8.14')",
   "language": "python",
   "name": "python3"
  },
  "language_info": {
   "codemirror_mode": {
    "name": "ipython",
    "version": 3
   },
   "file_extension": ".py",
   "mimetype": "text/x-python",
   "name": "python",
   "nbconvert_exporter": "python",
   "pygments_lexer": "ipython3",
   "version": "3.8.14"
  },
  "orig_nbformat": 4,
  "vscode": {
   "interpreter": {
    "hash": "ac1720b15ae09c0b55c2dd30e79536345c9ebe464667d12a646c27f7fc4d9415"
   }
  }
 },
 "nbformat": 4,
 "nbformat_minor": 2
}
